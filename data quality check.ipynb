{
 "cells": [
  {
   "cell_type": "code",
   "execution_count": 60,
   "metadata": {
    "collapsed": true
   },
   "outputs": [],
   "source": [
    "import pandas as pd"
   ]
  },
  {
   "cell_type": "markdown",
   "source": [
    "in this mini project we are going to check the quality of the dataset.\n",
    "we are going to use this photo as a reference to what steps we are going to take.\n",
    "![](images/Capture.PNG)"
   ],
   "metadata": {
    "collapsed": false,
    "pycharm": {
     "name": "#%% md\n"
    }
   }
  },
  {
   "cell_type": "code",
   "source": [
    "#read the data\n",
    "transactions = pd.read_excel('data/KPMG_VI_New_raw_data_update_final.xlsx',sheet_name='Transactions')\n",
    "new_customer_list = pd.read_excel('data/KPMG_VI_New_raw_data_update_final.xlsx',sheet_name='NewCustomerList')\n",
    "customer_demographic = pd.read_excel('data/KPMG_VI_New_raw_data_update_final.xlsx',sheet_name='CustomerDemographic')\n",
    "customer_address = pd.read_excel('data/KPMG_VI_New_raw_data_update_final.xlsx',sheet_name='CustomerAddress')"
   ],
   "metadata": {
    "collapsed": false,
    "pycharm": {
     "name": "#%%\n"
    }
   },
   "execution_count": 61,
   "outputs": []
  },
  {
   "cell_type": "code",
   "execution_count": 62,
   "outputs": [
    {
     "name": "stdout",
     "output_type": "stream",
     "text": [
      "Index(['transaction_id', 'product_id', 'customer_id', 'transaction_date',\n",
      "       'online_order', 'order_status', 'brand', 'product_line',\n",
      "       'product_class', 'product_size', 'list_price', 'standard_cost',\n",
      "       'product_first_sold_date'],\n",
      "      dtype='object', name=0)\n",
      "Index([                         'first_name',\n",
      "                                 'last_name',\n",
      "                                    'gender',\n",
      "       'past_3_years_bike_related_purchases',\n",
      "                                       'DOB',\n",
      "                                 'job_title',\n",
      "                     'job_industry_category',\n",
      "                            'wealth_segment',\n",
      "                        'deceased_indicator',\n",
      "                                  'owns_car',\n",
      "                                    'tenure',\n",
      "                                   'address',\n",
      "                                  'postcode',\n",
      "                                     'state',\n",
      "                                   'country',\n",
      "                        'property_valuation',\n",
      "                                         nan,\n",
      "                                         nan,\n",
      "                                         nan,\n",
      "                                         nan,\n",
      "                                         nan,\n",
      "                                      'Rank',\n",
      "                                     'Value'],\n",
      "      dtype='object', name=0)\n",
      "Index(['customer_id', 'first_name', 'last_name', 'gender',\n",
      "       'past_3_years_bike_related_purchases', 'DOB', 'job_title',\n",
      "       'job_industry_category', 'wealth_segment', 'deceased_indicator',\n",
      "       'default', 'owns_car', 'tenure'],\n",
      "      dtype='object', name=0)\n",
      "Index(['customer_id', 'address', 'postcode', 'state', 'country',\n",
      "       'property_valuation'],\n",
      "      dtype='object', name=0)\n"
     ]
    }
   ],
   "source": [
    "#change column headings\n",
    "sheet_list = [transactions,new_customer_list,customer_demographic,customer_address]\n",
    "for x in sheet_list:\n",
    "    x.columns = x.iloc[0]\n",
    "    print(x.columns)\n",
    "\n"
   ],
   "metadata": {
    "collapsed": false,
    "pycharm": {
     "name": "#%%\n"
    }
   }
  },
  {
   "cell_type": "code",
   "execution_count": 63,
   "outputs": [
    {
     "data": {
      "text/plain": "0 transaction_id product_id customer_id     transaction_date online_order  \\\n1              1          2        2950  2017-02-25 00:00:00        False   \n2              2          3        3120  2017-05-21 00:00:00         True   \n3              3         37         402  2017-10-16 00:00:00        False   \n4              4         88        3135  2017-08-31 00:00:00        False   \n5              5         78         787  2017-10-01 00:00:00         True   \n\n0 order_status           brand product_line product_class product_size  \\\n1     Approved           Solex     Standard        medium       medium   \n2     Approved   Trek Bicycles     Standard        medium        large   \n3     Approved      OHM Cycles     Standard           low       medium   \n4     Approved  Norco Bicycles     Standard        medium       medium   \n5     Approved  Giant Bicycles     Standard        medium        large   \n\n0 list_price standard_cost product_first_sold_date  \n1      71.49         53.62                   41245  \n2    2091.47        388.92                   41701  \n3    1793.43        248.82                   36361  \n4    1198.46         381.1                   36145  \n5     1765.3        709.48                   42226  ",
      "text/html": "<div>\n<style scoped>\n    .dataframe tbody tr th:only-of-type {\n        vertical-align: middle;\n    }\n\n    .dataframe tbody tr th {\n        vertical-align: top;\n    }\n\n    .dataframe thead th {\n        text-align: right;\n    }\n</style>\n<table border=\"1\" class=\"dataframe\">\n  <thead>\n    <tr style=\"text-align: right;\">\n      <th></th>\n      <th>transaction_id</th>\n      <th>product_id</th>\n      <th>customer_id</th>\n      <th>transaction_date</th>\n      <th>online_order</th>\n      <th>order_status</th>\n      <th>brand</th>\n      <th>product_line</th>\n      <th>product_class</th>\n      <th>product_size</th>\n      <th>list_price</th>\n      <th>standard_cost</th>\n      <th>product_first_sold_date</th>\n    </tr>\n  </thead>\n  <tbody>\n    <tr>\n      <th>1</th>\n      <td>1</td>\n      <td>2</td>\n      <td>2950</td>\n      <td>2017-02-25 00:00:00</td>\n      <td>False</td>\n      <td>Approved</td>\n      <td>Solex</td>\n      <td>Standard</td>\n      <td>medium</td>\n      <td>medium</td>\n      <td>71.49</td>\n      <td>53.62</td>\n      <td>41245</td>\n    </tr>\n    <tr>\n      <th>2</th>\n      <td>2</td>\n      <td>3</td>\n      <td>3120</td>\n      <td>2017-05-21 00:00:00</td>\n      <td>True</td>\n      <td>Approved</td>\n      <td>Trek Bicycles</td>\n      <td>Standard</td>\n      <td>medium</td>\n      <td>large</td>\n      <td>2091.47</td>\n      <td>388.92</td>\n      <td>41701</td>\n    </tr>\n    <tr>\n      <th>3</th>\n      <td>3</td>\n      <td>37</td>\n      <td>402</td>\n      <td>2017-10-16 00:00:00</td>\n      <td>False</td>\n      <td>Approved</td>\n      <td>OHM Cycles</td>\n      <td>Standard</td>\n      <td>low</td>\n      <td>medium</td>\n      <td>1793.43</td>\n      <td>248.82</td>\n      <td>36361</td>\n    </tr>\n    <tr>\n      <th>4</th>\n      <td>4</td>\n      <td>88</td>\n      <td>3135</td>\n      <td>2017-08-31 00:00:00</td>\n      <td>False</td>\n      <td>Approved</td>\n      <td>Norco Bicycles</td>\n      <td>Standard</td>\n      <td>medium</td>\n      <td>medium</td>\n      <td>1198.46</td>\n      <td>381.1</td>\n      <td>36145</td>\n    </tr>\n    <tr>\n      <th>5</th>\n      <td>5</td>\n      <td>78</td>\n      <td>787</td>\n      <td>2017-10-01 00:00:00</td>\n      <td>True</td>\n      <td>Approved</td>\n      <td>Giant Bicycles</td>\n      <td>Standard</td>\n      <td>medium</td>\n      <td>large</td>\n      <td>1765.3</td>\n      <td>709.48</td>\n      <td>42226</td>\n    </tr>\n  </tbody>\n</table>\n</div>"
     },
     "execution_count": 63,
     "metadata": {},
     "output_type": "execute_result"
    }
   ],
   "source": [
    "#drop the first row since its a repetition of the headings\n",
    "transactions = transactions.drop(transactions.index[0])\n",
    "transactions.head()"
   ],
   "metadata": {
    "collapsed": false,
    "pycharm": {
     "name": "#%%\n"
    }
   }
  },
  {
   "cell_type": "code",
   "execution_count": 64,
   "outputs": [
    {
     "data": {
      "text/plain": "0 first_name  last_name  gender past_3_years_bike_related_purchases  \\\n1    Chickie    Brister    Male                                  86   \n2      Morly     Genery    Male                                  69   \n3    Ardelis  Forrester  Female                                  10   \n4     Lucine      Stutt  Female                                  64   \n5    Melinda     Hadlee  Female                                  34   \n\n0                  DOB                   job_title job_industry_category  \\\n1           1957-07-12             General Manager         Manufacturing   \n2           1970-03-22         Structural Engineer              Property   \n3  1974-08-28 00:00:00      Senior Cost Accountant    Financial Services   \n4           1979-01-28  Account Representative III         Manufacturing   \n5           1965-09-21           Financial Analyst    Financial Services   \n\n0     wealth_segment deceased_indicator owns_car  ... state    country  \\\n1      Mass Customer                  N      Yes  ...   QLD  Australia   \n2      Mass Customer                  N       No  ...   NSW  Australia   \n3  Affluent Customer                  N       No  ...   VIC  Australia   \n4  Affluent Customer                  N      Yes  ...   QLD  Australia   \n5  Affluent Customer                  N       No  ...   NSW  Australia   \n\n0 property_valuation   NaN     NaN     NaN       NaN  NaN  Rank     Value  \n1                  6  0.56  0.7000  0.8750  0.743750  1.0     1   1.71875  \n2                 11  0.89  0.8900  1.1125  0.945625  1.0     1   1.71875  \n3                  5  1.01  1.0100  1.0100  1.010000  1.0     1   1.71875  \n4                  1  0.87  1.0875  1.0875  1.087500  4.0     4  1.703125  \n5                  9  0.52  0.5200  0.6500  0.650000  4.0     4  1.703125  \n\n[5 rows x 23 columns]",
      "text/html": "<div>\n<style scoped>\n    .dataframe tbody tr th:only-of-type {\n        vertical-align: middle;\n    }\n\n    .dataframe tbody tr th {\n        vertical-align: top;\n    }\n\n    .dataframe thead th {\n        text-align: right;\n    }\n</style>\n<table border=\"1\" class=\"dataframe\">\n  <thead>\n    <tr style=\"text-align: right;\">\n      <th></th>\n      <th>first_name</th>\n      <th>last_name</th>\n      <th>gender</th>\n      <th>past_3_years_bike_related_purchases</th>\n      <th>DOB</th>\n      <th>job_title</th>\n      <th>job_industry_category</th>\n      <th>wealth_segment</th>\n      <th>deceased_indicator</th>\n      <th>owns_car</th>\n      <th>...</th>\n      <th>state</th>\n      <th>country</th>\n      <th>property_valuation</th>\n      <th>NaN</th>\n      <th>NaN</th>\n      <th>NaN</th>\n      <th>NaN</th>\n      <th>NaN</th>\n      <th>Rank</th>\n      <th>Value</th>\n    </tr>\n  </thead>\n  <tbody>\n    <tr>\n      <th>1</th>\n      <td>Chickie</td>\n      <td>Brister</td>\n      <td>Male</td>\n      <td>86</td>\n      <td>1957-07-12</td>\n      <td>General Manager</td>\n      <td>Manufacturing</td>\n      <td>Mass Customer</td>\n      <td>N</td>\n      <td>Yes</td>\n      <td>...</td>\n      <td>QLD</td>\n      <td>Australia</td>\n      <td>6</td>\n      <td>0.56</td>\n      <td>0.7000</td>\n      <td>0.8750</td>\n      <td>0.743750</td>\n      <td>1.0</td>\n      <td>1</td>\n      <td>1.71875</td>\n    </tr>\n    <tr>\n      <th>2</th>\n      <td>Morly</td>\n      <td>Genery</td>\n      <td>Male</td>\n      <td>69</td>\n      <td>1970-03-22</td>\n      <td>Structural Engineer</td>\n      <td>Property</td>\n      <td>Mass Customer</td>\n      <td>N</td>\n      <td>No</td>\n      <td>...</td>\n      <td>NSW</td>\n      <td>Australia</td>\n      <td>11</td>\n      <td>0.89</td>\n      <td>0.8900</td>\n      <td>1.1125</td>\n      <td>0.945625</td>\n      <td>1.0</td>\n      <td>1</td>\n      <td>1.71875</td>\n    </tr>\n    <tr>\n      <th>3</th>\n      <td>Ardelis</td>\n      <td>Forrester</td>\n      <td>Female</td>\n      <td>10</td>\n      <td>1974-08-28 00:00:00</td>\n      <td>Senior Cost Accountant</td>\n      <td>Financial Services</td>\n      <td>Affluent Customer</td>\n      <td>N</td>\n      <td>No</td>\n      <td>...</td>\n      <td>VIC</td>\n      <td>Australia</td>\n      <td>5</td>\n      <td>1.01</td>\n      <td>1.0100</td>\n      <td>1.0100</td>\n      <td>1.010000</td>\n      <td>1.0</td>\n      <td>1</td>\n      <td>1.71875</td>\n    </tr>\n    <tr>\n      <th>4</th>\n      <td>Lucine</td>\n      <td>Stutt</td>\n      <td>Female</td>\n      <td>64</td>\n      <td>1979-01-28</td>\n      <td>Account Representative III</td>\n      <td>Manufacturing</td>\n      <td>Affluent Customer</td>\n      <td>N</td>\n      <td>Yes</td>\n      <td>...</td>\n      <td>QLD</td>\n      <td>Australia</td>\n      <td>1</td>\n      <td>0.87</td>\n      <td>1.0875</td>\n      <td>1.0875</td>\n      <td>1.087500</td>\n      <td>4.0</td>\n      <td>4</td>\n      <td>1.703125</td>\n    </tr>\n    <tr>\n      <th>5</th>\n      <td>Melinda</td>\n      <td>Hadlee</td>\n      <td>Female</td>\n      <td>34</td>\n      <td>1965-09-21</td>\n      <td>Financial Analyst</td>\n      <td>Financial Services</td>\n      <td>Affluent Customer</td>\n      <td>N</td>\n      <td>No</td>\n      <td>...</td>\n      <td>NSW</td>\n      <td>Australia</td>\n      <td>9</td>\n      <td>0.52</td>\n      <td>0.5200</td>\n      <td>0.6500</td>\n      <td>0.650000</td>\n      <td>4.0</td>\n      <td>4</td>\n      <td>1.703125</td>\n    </tr>\n  </tbody>\n</table>\n<p>5 rows × 23 columns</p>\n</div>"
     },
     "execution_count": 64,
     "metadata": {},
     "output_type": "execute_result"
    }
   ],
   "source": [
    "new_customer_list = new_customer_list.drop(new_customer_list.index[0])\n",
    "new_customer_list.head()"
   ],
   "metadata": {
    "collapsed": false,
    "pycharm": {
     "name": "#%%\n"
    }
   }
  },
  {
   "cell_type": "code",
   "execution_count": 65,
   "outputs": [
    {
     "data": {
      "text/plain": "0 customer_id      first_name  last_name  gender  \\\n1           1         Laraine  Medendorp       F   \n2           2             Eli    Bockman    Male   \n3           3           Arlin     Dearle    Male   \n4           4          Talbot        NaN    Male   \n5           5  Sheila-kathryn     Calton  Female   \n\n0 past_3_years_bike_related_purchases                  DOB  \\\n1                                  93  1953-10-12 00:00:00   \n2                                  81  1980-12-16 00:00:00   \n3                                  61  1954-01-20 00:00:00   \n4                                  33  1961-10-03 00:00:00   \n5                                  56  1977-05-13 00:00:00   \n\n0               job_title job_industry_category     wealth_segment  \\\n1     Executive Secretary                Health      Mass Customer   \n2  Administrative Officer    Financial Services      Mass Customer   \n3      Recruiting Manager              Property      Mass Customer   \n4                     NaN                    IT      Mass Customer   \n5           Senior Editor                   NaN  Affluent Customer   \n\n0 deceased_indicator                                            default  \\\n1                  N                                                 \"'   \n2                  N                       <script>alert('hi')</script>   \n3                  N                                2018-02-01 00:00:00   \n4                  N  () { _; } >_[$($())] { touch /tmp/blns.shellsh...   \n5                  N                                                NIL   \n\n0 owns_car tenure  \n1      Yes     11  \n2      Yes     16  \n3      Yes     15  \n4       No      7  \n5      Yes      8  ",
      "text/html": "<div>\n<style scoped>\n    .dataframe tbody tr th:only-of-type {\n        vertical-align: middle;\n    }\n\n    .dataframe tbody tr th {\n        vertical-align: top;\n    }\n\n    .dataframe thead th {\n        text-align: right;\n    }\n</style>\n<table border=\"1\" class=\"dataframe\">\n  <thead>\n    <tr style=\"text-align: right;\">\n      <th></th>\n      <th>customer_id</th>\n      <th>first_name</th>\n      <th>last_name</th>\n      <th>gender</th>\n      <th>past_3_years_bike_related_purchases</th>\n      <th>DOB</th>\n      <th>job_title</th>\n      <th>job_industry_category</th>\n      <th>wealth_segment</th>\n      <th>deceased_indicator</th>\n      <th>default</th>\n      <th>owns_car</th>\n      <th>tenure</th>\n    </tr>\n  </thead>\n  <tbody>\n    <tr>\n      <th>1</th>\n      <td>1</td>\n      <td>Laraine</td>\n      <td>Medendorp</td>\n      <td>F</td>\n      <td>93</td>\n      <td>1953-10-12 00:00:00</td>\n      <td>Executive Secretary</td>\n      <td>Health</td>\n      <td>Mass Customer</td>\n      <td>N</td>\n      <td>\"'</td>\n      <td>Yes</td>\n      <td>11</td>\n    </tr>\n    <tr>\n      <th>2</th>\n      <td>2</td>\n      <td>Eli</td>\n      <td>Bockman</td>\n      <td>Male</td>\n      <td>81</td>\n      <td>1980-12-16 00:00:00</td>\n      <td>Administrative Officer</td>\n      <td>Financial Services</td>\n      <td>Mass Customer</td>\n      <td>N</td>\n      <td>&lt;script&gt;alert('hi')&lt;/script&gt;</td>\n      <td>Yes</td>\n      <td>16</td>\n    </tr>\n    <tr>\n      <th>3</th>\n      <td>3</td>\n      <td>Arlin</td>\n      <td>Dearle</td>\n      <td>Male</td>\n      <td>61</td>\n      <td>1954-01-20 00:00:00</td>\n      <td>Recruiting Manager</td>\n      <td>Property</td>\n      <td>Mass Customer</td>\n      <td>N</td>\n      <td>2018-02-01 00:00:00</td>\n      <td>Yes</td>\n      <td>15</td>\n    </tr>\n    <tr>\n      <th>4</th>\n      <td>4</td>\n      <td>Talbot</td>\n      <td>NaN</td>\n      <td>Male</td>\n      <td>33</td>\n      <td>1961-10-03 00:00:00</td>\n      <td>NaN</td>\n      <td>IT</td>\n      <td>Mass Customer</td>\n      <td>N</td>\n      <td>() { _; } &gt;_[$($())] { touch /tmp/blns.shellsh...</td>\n      <td>No</td>\n      <td>7</td>\n    </tr>\n    <tr>\n      <th>5</th>\n      <td>5</td>\n      <td>Sheila-kathryn</td>\n      <td>Calton</td>\n      <td>Female</td>\n      <td>56</td>\n      <td>1977-05-13 00:00:00</td>\n      <td>Senior Editor</td>\n      <td>NaN</td>\n      <td>Affluent Customer</td>\n      <td>N</td>\n      <td>NIL</td>\n      <td>Yes</td>\n      <td>8</td>\n    </tr>\n  </tbody>\n</table>\n</div>"
     },
     "execution_count": 65,
     "metadata": {},
     "output_type": "execute_result"
    }
   ],
   "source": [
    "customer_demographic = customer_demographic.drop(customer_demographic.index[0])\n",
    "customer_demographic.head()"
   ],
   "metadata": {
    "collapsed": false,
    "pycharm": {
     "name": "#%%\n"
    }
   }
  },
  {
   "cell_type": "code",
   "execution_count": 66,
   "outputs": [
    {
     "data": {
      "text/plain": "0 customer_id              address postcode            state    country  \\\n1           1   060 Morning Avenue     2016  New South Wales  Australia   \n2           2  6 Meadow Vale Court     2153  New South Wales  Australia   \n3           4   0 Holy Cross Court     4211              QLD  Australia   \n4           5  17979 Del Mar Point     2448  New South Wales  Australia   \n5           6     9 Oakridge Court     3216              VIC  Australia   \n\n0 property_valuation  \n1                 10  \n2                 10  \n3                  9  \n4                  4  \n5                  9  ",
      "text/html": "<div>\n<style scoped>\n    .dataframe tbody tr th:only-of-type {\n        vertical-align: middle;\n    }\n\n    .dataframe tbody tr th {\n        vertical-align: top;\n    }\n\n    .dataframe thead th {\n        text-align: right;\n    }\n</style>\n<table border=\"1\" class=\"dataframe\">\n  <thead>\n    <tr style=\"text-align: right;\">\n      <th></th>\n      <th>customer_id</th>\n      <th>address</th>\n      <th>postcode</th>\n      <th>state</th>\n      <th>country</th>\n      <th>property_valuation</th>\n    </tr>\n  </thead>\n  <tbody>\n    <tr>\n      <th>1</th>\n      <td>1</td>\n      <td>060 Morning Avenue</td>\n      <td>2016</td>\n      <td>New South Wales</td>\n      <td>Australia</td>\n      <td>10</td>\n    </tr>\n    <tr>\n      <th>2</th>\n      <td>2</td>\n      <td>6 Meadow Vale Court</td>\n      <td>2153</td>\n      <td>New South Wales</td>\n      <td>Australia</td>\n      <td>10</td>\n    </tr>\n    <tr>\n      <th>3</th>\n      <td>4</td>\n      <td>0 Holy Cross Court</td>\n      <td>4211</td>\n      <td>QLD</td>\n      <td>Australia</td>\n      <td>9</td>\n    </tr>\n    <tr>\n      <th>4</th>\n      <td>5</td>\n      <td>17979 Del Mar Point</td>\n      <td>2448</td>\n      <td>New South Wales</td>\n      <td>Australia</td>\n      <td>4</td>\n    </tr>\n    <tr>\n      <th>5</th>\n      <td>6</td>\n      <td>9 Oakridge Court</td>\n      <td>3216</td>\n      <td>VIC</td>\n      <td>Australia</td>\n      <td>9</td>\n    </tr>\n  </tbody>\n</table>\n</div>"
     },
     "execution_count": 66,
     "metadata": {},
     "output_type": "execute_result"
    }
   ],
   "source": [
    "customer_address = customer_address.drop(customer_address.index[0])\n",
    "customer_address.head()"
   ],
   "metadata": {
    "collapsed": false,
    "pycharm": {
     "name": "#%%\n"
    }
   }
  },
  {
   "cell_type": "markdown",
   "source": [
    "Now that we have loaded all the data It's time to explore it and check for its quality\n",
    "#Accuracy\n",
    "Accuracy is ensuring that the dataset has correct values in each column.\n",
    "Is the data an accurate representation of the element it describes"
   ],
   "metadata": {
    "collapsed": false,
    "pycharm": {
     "name": "#%% md\n"
    }
   }
  },
  {
   "cell_type": "code",
   "execution_count": 74,
   "outputs": [
    {
     "name": "stdout",
     "output_type": "stream",
     "text": [
      "<class 'pandas.core.frame.DataFrame'>\n",
      "Int64Index: 20000 entries, 1 to 20000\n",
      "Data columns (total 13 columns):\n",
      " #   Column                   Non-Null Count  Dtype \n",
      "---  ------                   --------------  ----- \n",
      " 0   transaction_id           20000 non-null  object\n",
      " 1   product_id               20000 non-null  object\n",
      " 2   customer_id              20000 non-null  object\n",
      " 3   transaction_date         20000 non-null  object\n",
      " 4   online_order             19640 non-null  object\n",
      " 5   order_status             20000 non-null  object\n",
      " 6   brand                    19803 non-null  object\n",
      " 7   product_line             19803 non-null  object\n",
      " 8   product_class            19803 non-null  object\n",
      " 9   product_size             19803 non-null  object\n",
      " 10  list_price               20000 non-null  object\n",
      " 11  standard_cost            19803 non-null  object\n",
      " 12  product_first_sold_date  19803 non-null  object\n",
      "dtypes: object(13)\n",
      "memory usage: 2.1+ MB\n",
      "None\n",
      "transaction_id\n",
      "[1 2 3 ... 19998 19999 20000]\n",
      "product_id\n",
      "[2 3 37 88 78 25 22 15 67 12 5 61 35 16 79 33 54 27 82 89 64 19 72 91 1 99\n",
      " 0 92 14 44 76 46 55 66 81 86 32 77 96 6 47 94 93 60 28 4 38 56 58 50 80\n",
      " 87 84 21 31 62 17 73 45 49 95 18 70 26 39 36 98 75 42 20 24 53 65 29 11\n",
      " 10 7 41 9 69 90 97 100 74 71 34 57 23 51 59 63 40 8 13 30 48 68 83 43 52\n",
      " 85]\n",
      "customer_id\n",
      "[2950 3120 402 ... 130 2789 3446]\n",
      "transaction_date\n",
      "[datetime.datetime(2017, 2, 25, 0, 0) datetime.datetime(2017, 5, 21, 0, 0)\n",
      " datetime.datetime(2017, 10, 16, 0, 0)\n",
      " datetime.datetime(2017, 8, 31, 0, 0) datetime.datetime(2017, 10, 1, 0, 0)\n",
      " datetime.datetime(2017, 3, 8, 0, 0) datetime.datetime(2017, 4, 21, 0, 0)\n",
      " datetime.datetime(2017, 7, 15, 0, 0) datetime.datetime(2017, 8, 10, 0, 0)\n",
      " datetime.datetime(2017, 8, 30, 0, 0) datetime.datetime(2017, 1, 17, 0, 0)\n",
      " datetime.datetime(2017, 1, 5, 0, 0) datetime.datetime(2017, 2, 26, 0, 0)\n",
      " datetime.datetime(2017, 9, 10, 0, 0) datetime.datetime(2017, 6, 11, 0, 0)\n",
      " datetime.datetime(2017, 10, 10, 0, 0) datetime.datetime(2017, 4, 3, 0, 0)\n",
      " datetime.datetime(2017, 6, 2, 0, 0) datetime.datetime(2017, 4, 6, 0, 0)\n",
      " datetime.datetime(2017, 1, 28, 0, 0) datetime.datetime(2017, 10, 9, 0, 0)\n",
      " datetime.datetime(2017, 6, 29, 0, 0) datetime.datetime(2017, 4, 8, 0, 0)\n",
      " datetime.datetime(2017, 10, 18, 0, 0)\n",
      " datetime.datetime(2017, 1, 10, 0, 0) datetime.datetime(2017, 4, 11, 0, 0)\n",
      " datetime.datetime(2017, 12, 23, 0, 0)\n",
      " datetime.datetime(2017, 10, 13, 0, 0)\n",
      " datetime.datetime(2017, 3, 15, 0, 0) datetime.datetime(2017, 9, 5, 0, 0)\n",
      " datetime.datetime(2017, 2, 18, 0, 0) datetime.datetime(2017, 3, 20, 0, 0)\n",
      " datetime.datetime(2017, 2, 28, 0, 0) datetime.datetime(2017, 8, 20, 0, 0)\n",
      " datetime.datetime(2017, 7, 7, 0, 0) datetime.datetime(2017, 1, 9, 0, 0)\n",
      " datetime.datetime(2017, 12, 6, 0, 0) datetime.datetime(2017, 9, 12, 0, 0)\n",
      " datetime.datetime(2017, 11, 28, 0, 0) datetime.datetime(2017, 5, 8, 0, 0)\n",
      " datetime.datetime(2017, 5, 14, 0, 0) datetime.datetime(2017, 3, 17, 0, 0)\n",
      " datetime.datetime(2017, 12, 22, 0, 0) datetime.datetime(2017, 6, 7, 0, 0)\n",
      " datetime.datetime(2017, 6, 20, 0, 0) datetime.datetime(2017, 5, 7, 0, 0)\n",
      " datetime.datetime(2017, 6, 10, 0, 0) datetime.datetime(2017, 6, 17, 0, 0)\n",
      " datetime.datetime(2017, 5, 10, 0, 0) datetime.datetime(2017, 3, 24, 0, 0)\n",
      " datetime.datetime(2017, 11, 27, 0, 0)\n",
      " datetime.datetime(2017, 12, 21, 0, 0) datetime.datetime(2017, 2, 9, 0, 0)\n",
      " datetime.datetime(2017, 9, 18, 0, 0)\n",
      " datetime.datetime(2017, 11, 14, 0, 0)\n",
      " datetime.datetime(2017, 2, 15, 0, 0)\n",
      " datetime.datetime(2017, 12, 18, 0, 0)\n",
      " datetime.datetime(2017, 2, 24, 0, 0)\n",
      " datetime.datetime(2017, 12, 17, 0, 0) datetime.datetime(2017, 7, 8, 0, 0)\n",
      " datetime.datetime(2017, 5, 16, 0, 0) datetime.datetime(2017, 2, 23, 0, 0)\n",
      " datetime.datetime(2017, 7, 3, 0, 0) datetime.datetime(2017, 9, 30, 0, 0)\n",
      " datetime.datetime(2017, 10, 21, 0, 0) datetime.datetime(2017, 5, 6, 0, 0)\n",
      " datetime.datetime(2017, 1, 3, 0, 0) datetime.datetime(2017, 5, 9, 0, 0)\n",
      " datetime.datetime(2017, 7, 23, 0, 0) datetime.datetime(2017, 1, 21, 0, 0)\n",
      " datetime.datetime(2017, 3, 10, 0, 0) datetime.datetime(2017, 11, 7, 0, 0)\n",
      " datetime.datetime(2017, 12, 16, 0, 0)\n",
      " datetime.datetime(2017, 10, 7, 0, 0) datetime.datetime(2017, 4, 27, 0, 0)\n",
      " datetime.datetime(2017, 4, 1, 0, 0) datetime.datetime(2017, 11, 2, 0, 0)\n",
      " datetime.datetime(2017, 2, 13, 0, 0) datetime.datetime(2017, 7, 19, 0, 0)\n",
      " datetime.datetime(2017, 5, 23, 0, 0) datetime.datetime(2017, 8, 6, 0, 0)\n",
      " datetime.datetime(2017, 4, 4, 0, 0) datetime.datetime(2017, 8, 15, 0, 0)\n",
      " datetime.datetime(2017, 4, 15, 0, 0) datetime.datetime(2017, 7, 25, 0, 0)\n",
      " datetime.datetime(2017, 2, 21, 0, 0) datetime.datetime(2017, 5, 31, 0, 0)\n",
      " datetime.datetime(2017, 6, 23, 0, 0) datetime.datetime(2017, 3, 26, 0, 0)\n",
      " datetime.datetime(2017, 7, 31, 0, 0) datetime.datetime(2017, 7, 27, 0, 0)\n",
      " datetime.datetime(2017, 4, 14, 0, 0)\n",
      " datetime.datetime(2017, 11, 12, 0, 0)\n",
      " datetime.datetime(2017, 10, 26, 0, 0)\n",
      " datetime.datetime(2017, 10, 11, 0, 0)\n",
      " datetime.datetime(2017, 3, 27, 0, 0) datetime.datetime(2017, 11, 4, 0, 0)\n",
      " datetime.datetime(2017, 10, 24, 0, 0) datetime.datetime(2017, 5, 1, 0, 0)\n",
      " datetime.datetime(2017, 11, 21, 0, 0)\n",
      " datetime.datetime(2017, 3, 21, 0, 0) datetime.datetime(2017, 2, 20, 0, 0)\n",
      " datetime.datetime(2017, 6, 16, 0, 0) datetime.datetime(2017, 12, 4, 0, 0)\n",
      " datetime.datetime(2017, 12, 1, 0, 0) datetime.datetime(2017, 3, 5, 0, 0)\n",
      " datetime.datetime(2017, 3, 16, 0, 0) datetime.datetime(2017, 6, 5, 0, 0)\n",
      " datetime.datetime(2017, 9, 4, 0, 0) datetime.datetime(2017, 1, 18, 0, 0)\n",
      " datetime.datetime(2017, 9, 28, 0, 0) datetime.datetime(2017, 9, 2, 0, 0)\n",
      " datetime.datetime(2017, 10, 17, 0, 0)\n",
      " datetime.datetime(2017, 4, 25, 0, 0) datetime.datetime(2017, 9, 23, 0, 0)\n",
      " datetime.datetime(2017, 8, 2, 0, 0) datetime.datetime(2017, 3, 25, 0, 0)\n",
      " datetime.datetime(2017, 1, 1, 0, 0) datetime.datetime(2017, 12, 25, 0, 0)\n",
      " datetime.datetime(2017, 1, 26, 0, 0)\n",
      " datetime.datetime(2017, 12, 20, 0, 0)\n",
      " datetime.datetime(2017, 1, 13, 0, 0)\n",
      " datetime.datetime(2017, 11, 11, 0, 0)\n",
      " datetime.datetime(2017, 8, 19, 0, 0) datetime.datetime(2017, 8, 22, 0, 0)\n",
      " datetime.datetime(2017, 9, 15, 0, 0) datetime.datetime(2017, 3, 1, 0, 0)\n",
      " datetime.datetime(2017, 8, 16, 0, 0) datetime.datetime(2017, 8, 27, 0, 0)\n",
      " datetime.datetime(2017, 7, 10, 0, 0)\n",
      " datetime.datetime(2017, 12, 11, 0, 0)\n",
      " datetime.datetime(2017, 5, 20, 0, 0) datetime.datetime(2017, 7, 30, 0, 0)\n",
      " datetime.datetime(2017, 10, 25, 0, 0)\n",
      " datetime.datetime(2017, 4, 26, 0, 0) datetime.datetime(2017, 2, 2, 0, 0)\n",
      " datetime.datetime(2017, 5, 2, 0, 0) datetime.datetime(2017, 10, 22, 0, 0)\n",
      " datetime.datetime(2017, 11, 16, 0, 0)\n",
      " datetime.datetime(2017, 3, 30, 0, 0) datetime.datetime(2017, 4, 13, 0, 0)\n",
      " datetime.datetime(2017, 1, 31, 0, 0) datetime.datetime(2017, 3, 18, 0, 0)\n",
      " datetime.datetime(2017, 1, 7, 0, 0) datetime.datetime(2017, 7, 5, 0, 0)\n",
      " datetime.datetime(2017, 11, 19, 0, 0)\n",
      " datetime.datetime(2017, 11, 8, 0, 0) datetime.datetime(2017, 7, 24, 0, 0)\n",
      " datetime.datetime(2017, 1, 15, 0, 0) datetime.datetime(2017, 1, 12, 0, 0)\n",
      " datetime.datetime(2017, 6, 30, 0, 0) datetime.datetime(2017, 6, 22, 0, 0)\n",
      " datetime.datetime(2017, 12, 27, 0, 0) datetime.datetime(2017, 6, 8, 0, 0)\n",
      " datetime.datetime(2017, 7, 29, 0, 0) datetime.datetime(2017, 5, 27, 0, 0)\n",
      " datetime.datetime(2017, 5, 5, 0, 0) datetime.datetime(2017, 9, 9, 0, 0)\n",
      " datetime.datetime(2017, 9, 22, 0, 0) datetime.datetime(2017, 4, 12, 0, 0)\n",
      " datetime.datetime(2017, 12, 14, 0, 0)\n",
      " datetime.datetime(2017, 3, 22, 0, 0)\n",
      " datetime.datetime(2017, 11, 29, 0, 0) datetime.datetime(2017, 6, 9, 0, 0)\n",
      " datetime.datetime(2017, 11, 13, 0, 0) datetime.datetime(2017, 4, 9, 0, 0)\n",
      " datetime.datetime(2017, 11, 30, 0, 0)\n",
      " datetime.datetime(2017, 3, 13, 0, 0) datetime.datetime(2017, 8, 12, 0, 0)\n",
      " datetime.datetime(2017, 8, 4, 0, 0) datetime.datetime(2017, 9, 1, 0, 0)\n",
      " datetime.datetime(2017, 7, 2, 0, 0) datetime.datetime(2017, 3, 11, 0, 0)\n",
      " datetime.datetime(2017, 10, 8, 0, 0)\n",
      " datetime.datetime(2017, 11, 23, 0, 0)\n",
      " datetime.datetime(2017, 1, 22, 0, 0) datetime.datetime(2017, 1, 29, 0, 0)\n",
      " datetime.datetime(2017, 7, 21, 0, 0) datetime.datetime(2017, 2, 10, 0, 0)\n",
      " datetime.datetime(2017, 11, 25, 0, 0)\n",
      " datetime.datetime(2017, 12, 3, 0, 0)\n",
      " datetime.datetime(2017, 12, 30, 0, 0)\n",
      " datetime.datetime(2017, 7, 26, 0, 0) datetime.datetime(2017, 6, 15, 0, 0)\n",
      " datetime.datetime(2017, 7, 6, 0, 0) datetime.datetime(2017, 12, 28, 0, 0)\n",
      " datetime.datetime(2017, 1, 30, 0, 0) datetime.datetime(2017, 6, 26, 0, 0)\n",
      " datetime.datetime(2017, 8, 13, 0, 0) datetime.datetime(2017, 1, 25, 0, 0)\n",
      " datetime.datetime(2017, 7, 11, 0, 0) datetime.datetime(2017, 4, 30, 0, 0)\n",
      " datetime.datetime(2017, 5, 19, 0, 0) datetime.datetime(2017, 5, 26, 0, 0)\n",
      " datetime.datetime(2017, 2, 3, 0, 0) datetime.datetime(2017, 4, 28, 0, 0)\n",
      " datetime.datetime(2017, 3, 23, 0, 0) datetime.datetime(2017, 6, 3, 0, 0)\n",
      " datetime.datetime(2017, 5, 4, 0, 0) datetime.datetime(2017, 3, 29, 0, 0)\n",
      " datetime.datetime(2017, 10, 3, 0, 0) datetime.datetime(2017, 8, 7, 0, 0)\n",
      " datetime.datetime(2017, 2, 7, 0, 0) datetime.datetime(2017, 11, 20, 0, 0)\n",
      " datetime.datetime(2017, 4, 5, 0, 0) datetime.datetime(2017, 10, 28, 0, 0)\n",
      " datetime.datetime(2017, 8, 25, 0, 0) datetime.datetime(2017, 1, 20, 0, 0)\n",
      " datetime.datetime(2017, 3, 14, 0, 0) datetime.datetime(2017, 5, 24, 0, 0)\n",
      " datetime.datetime(2017, 11, 18, 0, 0) datetime.datetime(2017, 4, 7, 0, 0)\n",
      " datetime.datetime(2017, 1, 4, 0, 0) datetime.datetime(2017, 12, 13, 0, 0)\n",
      " datetime.datetime(2017, 4, 20, 0, 0) datetime.datetime(2017, 3, 7, 0, 0)\n",
      " datetime.datetime(2017, 8, 1, 0, 0) datetime.datetime(2017, 6, 19, 0, 0)\n",
      " datetime.datetime(2017, 1, 23, 0, 0) datetime.datetime(2017, 4, 19, 0, 0)\n",
      " datetime.datetime(2017, 8, 11, 0, 0)\n",
      " datetime.datetime(2017, 11, 15, 0, 0)\n",
      " datetime.datetime(2017, 11, 1, 0, 0) datetime.datetime(2017, 10, 5, 0, 0)\n",
      " datetime.datetime(2017, 10, 30, 0, 0) datetime.datetime(2017, 1, 2, 0, 0)\n",
      " datetime.datetime(2017, 7, 9, 0, 0) datetime.datetime(2017, 10, 20, 0, 0)\n",
      " datetime.datetime(2017, 11, 10, 0, 0)\n",
      " datetime.datetime(2017, 8, 14, 0, 0) datetime.datetime(2017, 9, 13, 0, 0)\n",
      " datetime.datetime(2017, 5, 3, 0, 0) datetime.datetime(2017, 1, 24, 0, 0)\n",
      " datetime.datetime(2017, 8, 3, 0, 0) datetime.datetime(2017, 8, 28, 0, 0)\n",
      " datetime.datetime(2017, 6, 24, 0, 0)\n",
      " datetime.datetime(2017, 10, 27, 0, 0) datetime.datetime(2017, 3, 3, 0, 0)\n",
      " datetime.datetime(2017, 12, 2, 0, 0)\n",
      " datetime.datetime(2017, 10, 15, 0, 0)\n",
      " datetime.datetime(2017, 10, 12, 0, 0)\n",
      " datetime.datetime(2017, 3, 19, 0, 0) datetime.datetime(2017, 6, 27, 0, 0)\n",
      " datetime.datetime(2017, 2, 27, 0, 0) datetime.datetime(2017, 3, 12, 0, 0)\n",
      " datetime.datetime(2017, 6, 14, 0, 0) datetime.datetime(2017, 2, 17, 0, 0)\n",
      " datetime.datetime(2017, 9, 14, 0, 0) datetime.datetime(2017, 4, 17, 0, 0)\n",
      " datetime.datetime(2017, 5, 11, 0, 0) datetime.datetime(2017, 11, 3, 0, 0)\n",
      " datetime.datetime(2017, 10, 2, 0, 0)\n",
      " datetime.datetime(2017, 12, 10, 0, 0)\n",
      " datetime.datetime(2017, 5, 25, 0, 0) datetime.datetime(2017, 8, 26, 0, 0)\n",
      " datetime.datetime(2017, 9, 6, 0, 0) datetime.datetime(2017, 4, 24, 0, 0)\n",
      " datetime.datetime(2017, 12, 15, 0, 0)\n",
      " datetime.datetime(2017, 2, 12, 0, 0) datetime.datetime(2017, 7, 22, 0, 0)\n",
      " datetime.datetime(2017, 9, 26, 0, 0) datetime.datetime(2017, 12, 5, 0, 0)\n",
      " datetime.datetime(2017, 3, 31, 0, 0)\n",
      " datetime.datetime(2017, 11, 22, 0, 0)\n",
      " datetime.datetime(2017, 4, 29, 0, 0) datetime.datetime(2017, 7, 14, 0, 0)\n",
      " datetime.datetime(2017, 9, 8, 0, 0) datetime.datetime(2017, 4, 22, 0, 0)\n",
      " datetime.datetime(2017, 1, 11, 0, 0) datetime.datetime(2017, 8, 9, 0, 0)\n",
      " datetime.datetime(2017, 5, 29, 0, 0) datetime.datetime(2017, 6, 13, 0, 0)\n",
      " datetime.datetime(2017, 7, 28, 0, 0) datetime.datetime(2017, 4, 23, 0, 0)\n",
      " datetime.datetime(2017, 7, 4, 0, 0) datetime.datetime(2017, 10, 19, 0, 0)\n",
      " datetime.datetime(2017, 9, 21, 0, 0) datetime.datetime(2017, 4, 2, 0, 0)\n",
      " datetime.datetime(2017, 8, 18, 0, 0) datetime.datetime(2017, 8, 21, 0, 0)\n",
      " datetime.datetime(2017, 3, 6, 0, 0) datetime.datetime(2017, 1, 16, 0, 0)\n",
      " datetime.datetime(2017, 2, 22, 0, 0) datetime.datetime(2017, 3, 9, 0, 0)\n",
      " datetime.datetime(2017, 1, 27, 0, 0)\n",
      " datetime.datetime(2017, 12, 19, 0, 0)\n",
      " datetime.datetime(2017, 4, 16, 0, 0) datetime.datetime(2017, 10, 4, 0, 0)\n",
      " datetime.datetime(2017, 2, 16, 0, 0) datetime.datetime(2017, 8, 17, 0, 0)\n",
      " datetime.datetime(2017, 2, 1, 0, 0) datetime.datetime(2017, 12, 8, 0, 0)\n",
      " datetime.datetime(2017, 8, 23, 0, 0) datetime.datetime(2017, 5, 12, 0, 0)\n",
      " datetime.datetime(2017, 3, 4, 0, 0) datetime.datetime(2017, 5, 28, 0, 0)\n",
      " datetime.datetime(2017, 7, 20, 0, 0) datetime.datetime(2017, 7, 13, 0, 0)\n",
      " datetime.datetime(2017, 10, 14, 0, 0)\n",
      " datetime.datetime(2017, 6, 12, 0, 0) datetime.datetime(2017, 2, 14, 0, 0)\n",
      " datetime.datetime(2017, 2, 11, 0, 0)\n",
      " datetime.datetime(2017, 10, 23, 0, 0)\n",
      " datetime.datetime(2017, 6, 28, 0, 0) datetime.datetime(2017, 6, 4, 0, 0)\n",
      " datetime.datetime(2017, 4, 18, 0, 0) datetime.datetime(2017, 9, 16, 0, 0)\n",
      " datetime.datetime(2017, 5, 15, 0, 0) datetime.datetime(2017, 5, 22, 0, 0)\n",
      " datetime.datetime(2017, 6, 6, 0, 0) datetime.datetime(2017, 12, 9, 0, 0)\n",
      " datetime.datetime(2017, 7, 18, 0, 0) datetime.datetime(2017, 2, 6, 0, 0)\n",
      " datetime.datetime(2017, 11, 9, 0, 0) datetime.datetime(2017, 6, 21, 0, 0)\n",
      " datetime.datetime(2017, 7, 17, 0, 0)\n",
      " datetime.datetime(2017, 10, 29, 0, 0)\n",
      " datetime.datetime(2017, 5, 13, 0, 0) datetime.datetime(2017, 10, 6, 0, 0)\n",
      " datetime.datetime(2017, 2, 4, 0, 0) datetime.datetime(2017, 11, 5, 0, 0)\n",
      " datetime.datetime(2017, 2, 8, 0, 0) datetime.datetime(2017, 11, 6, 0, 0)\n",
      " datetime.datetime(2017, 9, 20, 0, 0) datetime.datetime(2017, 4, 10, 0, 0)\n",
      " datetime.datetime(2017, 11, 17, 0, 0)\n",
      " datetime.datetime(2017, 12, 7, 0, 0)\n",
      " datetime.datetime(2017, 12, 12, 0, 0)\n",
      " datetime.datetime(2017, 1, 19, 0, 0) datetime.datetime(2017, 5, 17, 0, 0)\n",
      " datetime.datetime(2017, 2, 19, 0, 0) datetime.datetime(2017, 9, 19, 0, 0)\n",
      " datetime.datetime(2017, 9, 29, 0, 0) datetime.datetime(2017, 5, 18, 0, 0)\n",
      " datetime.datetime(2017, 7, 1, 0, 0) datetime.datetime(2017, 12, 29, 0, 0)\n",
      " datetime.datetime(2017, 11, 24, 0, 0) datetime.datetime(2017, 1, 8, 0, 0)\n",
      " datetime.datetime(2017, 8, 24, 0, 0) datetime.datetime(2017, 7, 12, 0, 0)\n",
      " datetime.datetime(2017, 8, 8, 0, 0) datetime.datetime(2017, 2, 5, 0, 0)\n",
      " datetime.datetime(2017, 7, 16, 0, 0) datetime.datetime(2017, 9, 27, 0, 0)\n",
      " datetime.datetime(2017, 1, 14, 0, 0) datetime.datetime(2017, 3, 28, 0, 0)\n",
      " datetime.datetime(2017, 8, 29, 0, 0) datetime.datetime(2017, 9, 24, 0, 0)\n",
      " datetime.datetime(2017, 10, 31, 0, 0)\n",
      " datetime.datetime(2017, 12, 24, 0, 0) datetime.datetime(2017, 9, 3, 0, 0)\n",
      " datetime.datetime(2017, 9, 17, 0, 0) datetime.datetime(2017, 8, 5, 0, 0)\n",
      " datetime.datetime(2017, 6, 18, 0, 0) datetime.datetime(2017, 9, 7, 0, 0)\n",
      " datetime.datetime(2017, 9, 25, 0, 0) datetime.datetime(2017, 6, 1, 0, 0)\n",
      " datetime.datetime(2017, 11, 26, 0, 0)\n",
      " datetime.datetime(2017, 9, 11, 0, 0) datetime.datetime(2017, 1, 6, 0, 0)\n",
      " datetime.datetime(2017, 12, 26, 0, 0) datetime.datetime(2017, 3, 2, 0, 0)\n",
      " datetime.datetime(2017, 5, 30, 0, 0) datetime.datetime(2017, 6, 25, 0, 0)]\n",
      "online_order\n",
      "[False True nan]\n",
      "order_status\n",
      "['Approved' 'Cancelled']\n",
      "brand\n",
      "['Solex' 'Trek Bicycles' 'OHM Cycles' 'Norco Bicycles' 'Giant Bicycles'\n",
      " 'WeareA2B' nan]\n",
      "product_line\n",
      "['Standard' 'Road' 'Mountain' 'Touring' nan]\n",
      "product_class\n",
      "['medium' 'low' 'high' nan]\n",
      "product_size\n",
      "['medium' 'large' 'small' nan]\n",
      "list_price\n",
      "[71.49 2091.47 1793.43 1198.46 1765.3 1538.99 60.34 1292.84 1071.23\n",
      " 1231.15 574.64 71.16 1057.51 1661.92 1555.58 1311.44 499.53 1362.99\n",
      " 1469.44 360.4 642.31 1403.5 1720.7 544.05 1415.01 1842.92 1769.64 2083.94\n",
      " 1289.85 1894.19 1163.89 1151.96 235.63 642.7 1240.31 1635.3 227.88 363.01\n",
      " 100.35 1458.17 1977.36 12.01 1216.14 1129.13 183.86 912.52 175.89 1073.07\n",
      " 1179 958.74 792.9 290.62 752.64 478.16 1024.66 1945.43 441.49 533.51\n",
      " 569.56 1148.64 495.72 1992.93 1812.75 945.04 358.39 1873.97 1810 1775.81\n",
      " 1777.8 795.34 575.27 1172.78 1065.03 1807.45 1942.61 1274.93 1890.39\n",
      " 980.37 416.98 1386.84 742.54 230.91 688.63 748.17 1466.68 1656.86 202.62\n",
      " 1036.59 1228.07 774.53 586.45 1762.96 2005.66 1483.2 590.26 1703.52\n",
      " 1577.53 1636.9 1280.28 1061.56 850.89 710.59 543.39 1227.34 1972.01\n",
      " 311.54 205.84 605.54 756.31 850 571.27 294.35 149.3 447.25 1348.41\n",
      " 1021.43 1163.77 1294.66 638.29 1202.34 326.86 814.86 1102.68 1880.4\n",
      " 1541.62 639.38 402.14 710.55 1142.89 813.6 1833.17 1285.47 1678.71 437.51\n",
      " 366.22 1199.26 1888.45 237.44 317.3 1527.25 1563.94 1146.42 1192.33\n",
      " 1672.07 1099.68 1281.6 1220.66 1061.92 1502.93 398.08 101.55 1957.87\n",
      " 1095.66 1776.08 752.36 172.09 1740.16 1734.3 240.72 1958.34 330.36\n",
      " 1709.26 60.72 1193.44 2037.77 1349.47 56.21 126.36 1300.96 1697.27 26.15\n",
      " 875.99 1862.82 2028.26 678.25 890.28 1084.18 1107.08 1790.31 724.37\n",
      " 1095.65 1223.24 541.44 470.07 2052.92 1817.13 1473.09 1480.76 2012.84\n",
      " 1711.35 753.76 840.02 1922.94 1759.3 330.91 1029.36 1487.8 1624.69\n",
      " 1719.95 899.52 554.38 960.51 1978.64 36.78 74.89 1091.51 695.23 1148.41\n",
      " 750.25 1997.68 1392.76 1294.37 311.57 899.92 162.87 1678.51 1703.18\n",
      " 675.28 487.8 1292.13 1578.52 922.15 122.74 435.66 1409.68 1315.16 1233.12\n",
      " 758.73 405.94 1026.7 687.9 494.96 1181.89 465.71 880.3 1989.3 1413.98\n",
      " 483.12 753.01 883.91 1216.4 32.44 16.08 1184 587.02 1919.23 1660.68\n",
      " 1224.41 1535.84 150.51 2062.95 1689.63 1934.41 889.05 1617.32 1788.93\n",
      " 2064.08 2020.14 489.58 2076.81 2061.38 877.44 1374.2 731.41 1034.17\n",
      " 156.56 643.95 517.53 226.94 1196.65 634.57 1571.83 1999.54 1562.88\n",
      " 1150.59 356.05 1780.22 1438.9 966.91 918.43 1541.1 1476.88 1023.39 310.57\n",
      " 356.39 1695.42 877.6 1401.63 2086.07 1761.75 1615.62 744.54 1098.18\n",
      " 868.56 1497.43 867.92]\n",
      "standard_cost\n",
      "[53.62 388.92 248.82 381.1 709.48 829.65 45.26 13.44 380.74 161.6 459.71\n",
      " 56.93 154.4 1479.11 818.01 1167.18 388.72 57.74 596.55 270.3 513.85\n",
      " 954.82 1531.42 376.84 1259.36 1105.75 108.76 675.03 74.51 598.76 589.27\n",
      " 649.49 125.07 211.37 795.1 993.66 136.73 290.41 75.26 874.9 1759.85 7.21\n",
      " 1082.36 677.48 137.9 141.4 131.92 933.84 707.4 748.9 594.68 215.14 205.36\n",
      " 298.72 614.8 333.18 84.99 400.13 528.43 689.18 297.43 762.63 582.48\n",
      " 507.58 215.03 863.95 1610.9 1580.47 820.78 101.58 431.45 1043.77 230.09\n",
      " 778.69 nan 764.96 260.14 234.43 312.74 1234.29 667.4 173.18 612.88 448.9\n",
      " 363.25 151.96 206.35 400.91 464.72 521.94 950.52 1203.4 99.59 525.33\n",
      " 1516.13 826.51 44.71 829.51 733.58 407.54 770.89 312.7350159 270.2999878\n",
      " 667.4000244]\n",
      "product_first_sold_date\n",
      "[41245 41701 36361 36145 42226 39031 34165 39915 33455 38216 40784 42172\n",
      " 34527 34586 38193 37873 38206 33888 37337 36334 42145 42404 34079 41047\n",
      " 42560 42710 41922 37539 42688 38991 38647 37874 34996 33549 38693 37668\n",
      " 41533 41009 40553 39427 38482 35470 41434 36367 38750 41848 34244 42696\n",
      " 38258 41167 40672 35707 42295 33552 35667 33879 40670 37626 38339 40303\n",
      " 34143 35160 36668 36498 34071 40649 37823 36146 42105 34115 35052 33364\n",
      " 42218 41345 33429 38859 nan 36833 37499 41064 33259 35560 37838 37698\n",
      " 35378 38573 38002 39526 39880 40487 40336 40618 34170 40410 42458 39298\n",
      " 35455 37220 37659 40779 34556]\n"
     ]
    }
   ],
   "source": [
    "print(transactions.info())\n",
    "for col in transactions.columns:\n",
    "    print(col)\n",
    "    print(transactions[col].unique())"
   ],
   "metadata": {
    "collapsed": false,
    "pycharm": {
     "name": "#%%\n"
    }
   }
  },
  {
   "cell_type": "markdown",
   "source": [
    "# completeness\n",
    "This is ensuring that all rows and columns are not null and have data"
   ],
   "metadata": {
    "collapsed": false,
    "pycharm": {
     "name": "#%% md\n"
    }
   }
  },
  {
   "cell_type": "code",
   "execution_count": 76,
   "outputs": [
    {
     "data": {
      "text/plain": "0\ntransaction_id               0\nproduct_id                   0\ncustomer_id                  0\ntransaction_date             0\nonline_order               360\norder_status                 0\nbrand                      197\nproduct_line               197\nproduct_class              197\nproduct_size               197\nlist_price                   0\nstandard_cost              197\nproduct_first_sold_date    197\ndtype: int64"
     },
     "execution_count": 76,
     "metadata": {},
     "output_type": "execute_result"
    }
   ],
   "source": [
    "transactions.isna().sum()\n",
    "#todo: do this for all the other data"
   ],
   "metadata": {
    "collapsed": false,
    "pycharm": {
     "name": "#%%\n"
    }
   }
  },
  {
   "cell_type": "markdown",
   "source": [
    "# consistency\n",
    "This is ensuring that the values are free from contradiction"
   ],
   "metadata": {
    "collapsed": false,
    "pycharm": {
     "name": "#%% md\n"
    }
   }
  }
 ],
 "metadata": {
  "kernelspec": {
   "name": "pycharm-f272375",
   "language": "python",
   "display_name": "PyCharm (Kpmg virtual internship)"
  },
  "language_info": {
   "codemirror_mode": {
    "name": "ipython",
    "version": 2
   },
   "file_extension": ".py",
   "mimetype": "text/x-python",
   "name": "python",
   "nbconvert_exporter": "python",
   "pygments_lexer": "ipython2",
   "version": "2.7.6"
  }
 },
 "nbformat": 4,
 "nbformat_minor": 0
}